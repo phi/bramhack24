{
 "cells": [
  {
   "cell_type": "code",
   "execution_count": 13,
   "metadata": {},
   "outputs": [],
   "source": [
    "import segno\n",
    "from urllib.request import urlopen"
   ]
  },
  {
   "cell_type": "code",
   "execution_count": 16,
   "metadata": {},
   "outputs": [
    {
     "name": "stdout",
     "output_type": "stream",
     "text": [
      "Defaulting to user installation because normal site-packages is not writeable\n",
      "Requirement already satisfied: pillow in c:\\users\\a\\appdata\\roaming\\python\\python312\\site-packages (11.0.0)\n",
      "Collecting qrcode-artistic\n",
      "  Downloading qrcode_artistic-3.0.2-py3-none-any.whl.metadata (4.3 kB)\n",
      "Requirement already satisfied: segno>=1.0.2 in c:\\users\\a\\appdata\\roaming\\python\\python312\\site-packages (from qrcode-artistic) (1.6.1)\n",
      "Downloading qrcode_artistic-3.0.2-py3-none-any.whl (7.6 kB)\n",
      "Installing collected packages: qrcode-artistic\n",
      "Successfully installed qrcode-artistic-3.0.2\n",
      "Note: you may need to restart the kernel to use updated packages.\n"
     ]
    }
   ],
   "source": [
    "%pip install pillow qrcode-artistic\n"
   ]
  },
  {
   "cell_type": "code",
   "execution_count": null,
   "metadata": {},
   "outputs": [],
   "source": []
  },
  {
   "cell_type": "code",
   "execution_count": null,
   "metadata": {},
   "outputs": [],
   "source": []
  },
  {
   "cell_type": "code",
   "execution_count": 20,
   "metadata": {},
   "outputs": [],
   "source": [
    "qrcode = segno.make_qr(\"https://phi.github.io/bramhack24\")\n",
    "qrcode.save(\"bikebuds.png\", border=5)"
   ]
  },
  {
   "cell_type": "code",
   "execution_count": null,
   "metadata": {},
   "outputs": [],
   "source": []
  }
 ],
 "metadata": {
  "kernelspec": {
   "display_name": "Python 3",
   "language": "python",
   "name": "python3"
  },
  "language_info": {
   "codemirror_mode": {
    "name": "ipython",
    "version": 3
   },
   "file_extension": ".py",
   "mimetype": "text/x-python",
   "name": "python",
   "nbconvert_exporter": "python",
   "pygments_lexer": "ipython3",
   "version": "3.12.6"
  }
 },
 "nbformat": 4,
 "nbformat_minor": 2
}
